{
 "cells": [
  {
   "cell_type": "markdown",
   "metadata": {},
   "source": [
    "### EE219 Project 4: Regression Analysis\n",
    "\n",
    "### Team members:\n",
    "* **Yin Fei** 404284074\n",
    "\n",
    "* **Yichen Wu** 504294181\n",
    "\n",
    "* **Siyuan Chen** 405024391\n",
    "\n",
    "* **Ruchen Zhen** 205036408\n",
    "\n",
    "### Required Packages:\n",
    "python 3.6  \n",
    "numpy v1.14.0  \n",
    "scikit-learn v0.19.1  \n",
    "scipy v1.0.0  \n",
    "matplotlib v2.1.2  \n",
    "pandas v0.22.0   \n",
    "graphviz v2.38.0"
   ]
  },
  {
   "cell_type": "markdown",
   "metadata": {},
   "source": [
    "### Part 1) Load the dataset."
   ]
  },
  {
   "cell_type": "markdown",
   "metadata": {},
   "source": [
    "**(a) For a twenty-day period (X-axis unit is day number) plot the backup sizes for\n",
    "all workflows (color coded on the Y-axis)**"
   ]
  },
  {
   "cell_type": "markdown",
   "metadata": {},
   "source": [
    "![title](image/1a.png)"
   ]
  },
  {
   "cell_type": "markdown",
   "metadata": {},
   "source": [
    "**(b) Do the same plot for the first 105-day period.**"
   ]
  },
  {
   "cell_type": "markdown",
   "metadata": {},
   "source": [
    "We can see an obvious periodic pattern of the data on the graph. Periods of all 5 workflows are the same, which is approximately 7 days, the number of days of a week. The peaks of workflow 4 appear when the troughs of workflow 0 appear. The peaks of workflow 2 and 3 appear at the same time, leading the peak of workflow 4 by approximately 2 days. The peaks of workflow 1 are lagging the peaks of workflow 4 by approximately 1 day."
   ]
  },
  {
   "cell_type": "markdown",
   "metadata": {},
   "source": [
    "### Part 2) Predict."
   ]
  },
  {
   "cell_type": "markdown",
   "metadata": {},
   "source": [
    "#### (a) "
   ]
  },
  {
   "cell_type": "markdown",
   "metadata": {},
   "source": [
    "#### i"
   ]
  },
  {
   "cell_type": "markdown",
   "metadata": {},
   "source": []
  },
  {
   "cell_type": "markdown",
   "metadata": {},
   "source": [
    "#### ii"
   ]
  },
  {
   "cell_type": "markdown",
   "metadata": {},
   "source": [
    "The fitting result does not change as shown in the plots."
   ]
  },
  {
   "cell_type": "markdown",
   "metadata": {},
   "source": [
    "#### iii"
   ]
  },
  {
   "cell_type": "markdown",
   "metadata": {},
   "source": [
    "No, the performance of prediction does not improve when we choose three most important variables. The RMSE increases slightly when we choose three most important variables."
   ]
  },
  {
   "cell_type": "markdown",
   "metadata": {},
   "source": [
    "#### iv"
   ]
  },
  {
   "cell_type": "markdown",
   "metadata": {},
   "source": [
    "The combination which achieves the best performance is [false true true true true], of which the true values correspond to “day of the week”, “backup start time-hour of day”, “work-flow ID” and “file name”. The result makes sense and consistent with the pattern we found in question 1. All of the work-flows have a period of 7 days, which is a week. Within the period, at different time (day of the week and hour of the day) the backup size is different, so that the day of the week and hour of the day are two important variables for prediction, while number of the week is not important since every week the data shows the same pattern. Because the data is simulated traffic data, we can tell that this pattern is consistent with our common sense: the traffic condition is related to what day it is. \n",
    "Each work-flow has its own periodic pattern which is different from that of other work-flows, so work-flow ID is another important variable. \n",
    "In addition, different types of file need different time to backup, so the file name is also important.\n"
   ]
  },
  {
   "cell_type": "markdown",
   "metadata": {},
   "source": [
    "#### (b)"
   ]
  },
  {
   "cell_type": "markdown",
   "metadata": {},
   "source": [
    "#### i"
   ]
  },
  {
   "cell_type": "markdown",
   "metadata": {},
   "source": []
  },
  {
   "cell_type": "markdown",
   "metadata": {},
   "source": [
    "#### ii"
   ]
  },
  {
   "cell_type": "markdown",
   "metadata": {},
   "source": []
  },
  {
   "cell_type": "markdown",
   "metadata": {},
   "source": [
    "#### iii"
   ]
  },
  {
   "cell_type": "markdown",
   "metadata": {},
   "source": []
  },
  {
   "cell_type": "markdown",
   "metadata": {},
   "source": [
    "#### iv"
   ]
  },
  {
   "cell_type": "markdown",
   "metadata": {},
   "source": []
  },
  {
   "cell_type": "markdown",
   "metadata": {},
   "source": [
    "#### v"
   ]
  },
  {
   "cell_type": "markdown",
   "metadata": {},
   "source": []
  },
  {
   "cell_type": "markdown",
   "metadata": {},
   "source": []
  }
 ],
 "metadata": {
  "kernelspec": {
   "display_name": "Python 3",
   "language": "python",
   "name": "python3"
  },
  "language_info": {
   "codemirror_mode": {
    "name": "ipython",
    "version": 3
   },
   "file_extension": ".py",
   "mimetype": "text/x-python",
   "name": "python",
   "nbconvert_exporter": "python",
   "pygments_lexer": "ipython3",
   "version": "3.6.3"
  }
 },
 "nbformat": 4,
 "nbformat_minor": 2
}
