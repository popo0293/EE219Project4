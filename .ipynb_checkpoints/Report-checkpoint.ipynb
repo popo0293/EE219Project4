{
 "cells": [
  {
   "cell_type": "markdown",
   "metadata": {},
   "source": [
    "### EE219 Project 4: Regression Analysis\n",
    "\n",
    "### Team members:\n",
    "* **Yin Fei** 404284074\n",
    "\n",
    "* **Yichen Wu** 504294181\n",
    "\n",
    "* **Siyuan Chen** 405024391\n",
    "\n",
    "* **Ruchen Zhen** 205036408\n",
    "\n",
    "### Required Packages:\n",
    "python 3.6  \n",
    "numpy v1.14.0  \n",
    "scikit-learn v0.19.1  \n",
    "scipy v1.0.0  \n",
    "matplotlib v2.1.2  \n",
    "pandas v0.22.0   \n",
    "graphviz v2.38.0"
   ]
  },
  {
   "cell_type": "markdown",
   "metadata": {},
   "source": [
    "### Part 1) Load the dataset."
   ]
  },
  {
   "cell_type": "markdown",
   "metadata": {},
   "source": [
    "![title](image/1a.png)"
   ]
  },
  {
   "cell_type": "code",
   "execution_count": null,
   "metadata": {
    "collapsed": true
   },
   "outputs": [],
   "source": []
  }
 ],
 "metadata": {
  "kernelspec": {
   "display_name": "Python 3",
   "language": "python",
   "name": "python3"
  },
  "language_info": {
   "codemirror_mode": {
    "name": "ipython",
    "version": 3
   },
   "file_extension": ".py",
   "mimetype": "text/x-python",
   "name": "python",
   "nbconvert_exporter": "python",
   "pygments_lexer": "ipython3",
   "version": "3.6.3"
  }
 },
 "nbformat": 4,
 "nbformat_minor": 2
}
