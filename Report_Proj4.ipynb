{
 "cells": [
  {
   "cell_type": "markdown",
   "metadata": {},
   "source": [
    "### EE219 Project 4: Regression Analysis\n",
    "\n",
    "### Team members:\n",
    "* **Yin Fei** 404284074\n",
    "\n",
    "* **Yichen Wu** 504294181\n",
    "\n",
    "* **Siyuan Chen** 405024391\n",
    "\n",
    "* **Ruchen Zhen** 205036408\n",
    "\n",
    "### Required Packages:\n",
    "python 3.6  \n",
    "numpy v1.14.0  \n",
    "scikit-learn v0.19.1  \n",
    "scipy v1.0.0  \n",
    "matplotlib v2.1.2  \n",
    "pandas v0.22.0   \n",
    "graphviz v2.38.0"
   ]
  },
  {
   "cell_type": "markdown",
   "metadata": {},
   "source": [
    "### Part 1) Load the dataset."
   ]
  },
  {
   "cell_type": "markdown",
   "metadata": {},
   "source": [
    "**(a) For a twenty-day period (X-axis unit is day number) plot the backup sizes for\n",
    "all workflows (color coded on the Y-axis)**"
   ]
  },
  {
   "cell_type": "markdown",
   "metadata": {},
   "source": [
    "![title](image/output_7_0.png)"
   ]
  },
  {
   "cell_type": "markdown",
   "metadata": {},
   "source": [
    "**(b) Do the same plot for the first 105-day period.**"
   ]
  },
  {
   "cell_type": "markdown",
   "metadata": {
    "scrolled": true
   },
   "source": [
    "![title](image/output_9_0.png)"
   ]
  },
  {
   "cell_type": "markdown",
   "metadata": {},
   "source": [
    "We can see an obvious periodic pattern of the data on the graph. Periods of all 5 workflows are the same, which is approximately 7 days, the number of days of a week. The peaks of workflow 4 appear when the troughs of workflow 0 appear. The peaks of workflow 2 and 3 appear at the same time, leading the peak of workflow 4 by approximately 2 days. The peaks of workflow 1 are lagging the peaks of workflow 4 by approximately 1 day."
   ]
  },
  {
   "cell_type": "markdown",
   "metadata": {
    "collapsed": true
   },
   "source": [
    "### Part 2) Predict the backup size of a file given the other attributes."
   ]
  },
  {
   "cell_type": "markdown",
   "metadata": {},
   "source": [
    "#### a) Fit a linear regression model."
   ]
  },
  {
   "cell_type": "markdown",
   "metadata": {},
   "source": [
    "#### i) Naive linear regression"
   ]
  },
  {
   "cell_type": "markdown",
   "metadata": {},
   "source": [
    "![title](image/output_20_0.png)\n",
    "![title](image/output_20_1.png)"
   ]
  },
  {
   "cell_type": "markdown",
   "metadata": {},
   "source": [
    "Train set average RMSE:  0.103585393643<br>\n",
    "Test set average RMSE:  0.103675847676"
   ]
  },
  {
   "cell_type": "markdown",
   "metadata": {},
   "source": [
    "#### ii) Data Preprocessing: with standardized feature data"
   ]
  },
  {
   "cell_type": "markdown",
   "metadata": {},
   "source": [
    "![title](image/output_23_0.png)\n",
    "![title](image/output_23_1.png)"
   ]
  },
  {
   "cell_type": "markdown",
   "metadata": {},
   "source": [
    "The fitting result does not change as shown in the plots. After the standardization, the RSME for trin set and test set does not change."
   ]
  },
  {
   "cell_type": "markdown",
   "metadata": {},
   "source": [
    "Train set average RMSE:  0.103585393643<br>\n",
    "Test set average RMSE:  0.103675847676"
   ]
  },
  {
   "cell_type": "markdown",
   "metadata": {},
   "source": [
    "#### iii) Feature Selection: select three most important features"
   ]
  },
  {
   "cell_type": "markdown",
   "metadata": {},
   "source": [
    "![title](image/output_26_0.png)\n",
    "![title](image/output_26_1.png)"
   ]
  },
  {
   "cell_type": "markdown",
   "metadata": {},
   "source": [
    "For f-regression, our result is: [false true true true false], which means that the second, the third and the fourth variables are the most important three variables."
   ]
  },
  {
   "cell_type": "markdown",
   "metadata": {},
   "source": [
    "Train set average RMSE:  0.103585682142<br>\n",
    "Test set average RMSE:  0.103670661831"
   ]
  },
  {
   "cell_type": "markdown",
   "metadata": {},
   "source": [
    "![title](image/output_29_0.png)\n",
    "![title](image/output_29_1.png)"
   ]
  },
  {
   "cell_type": "markdown",
   "metadata": {},
   "source": [
    "For mutual information regression, our result is: [false false true true true], which means that the third, the fourth and the fifth variables are the most important three variables."
   ]
  },
  {
   "cell_type": "markdown",
   "metadata": {},
   "source": [
    "Train set average RMSE:  0.103694528194<br>\n",
    "Test set average RMSE:  0.103772293071"
   ]
  },
  {
   "cell_type": "markdown",
   "metadata": {},
   "source": [
    "The performance of prediction does not improve when we choose three most important variables to train the model."
   ]
  },
  {
   "cell_type": "markdown",
   "metadata": {},
   "source": [
    "#### iv) Feature Encoding:"
   ]
  },
  {
   "cell_type": "markdown",
   "metadata": {},
   "source": [
    "![title](image/output_34_0.png)"
   ]
  },
  {
   "cell_type": "markdown",
   "metadata": {},
   "source": [
    "![title](image/output_35_0.png)"
   ]
  },
  {
   "cell_type": "markdown",
   "metadata": {},
   "source": [
    "The combination which achieves the best performance is [false true true true true], of which the true values correspond to “day of the week”, “backup start time-hour of day”, “work-flow ID” and “file name”. <br>\n",
    "The result makes sense and consistent with the pattern we found in question 1. All of the work-flows have a period of 7 days, which is a week. Within the period, at different time (day of the week and hour of the day) the backup size is different, so that the day of the week and hour of the day are two important variables for prediction, while number of the week is not important since every week the data shows the same pattern. Because the data is simulated traffic data, we can tell that this pattern is consistent with our common sense: the traffic condition is related to what day it is. <br>\n",
    "Each work-flow has its own periodic pattern which is different from that of other work-flows, so work-flow ID is another important variable. \n",
    "In addition, different types of file need different time to backup, so the file name is also important. \n"
   ]
  },
  {
   "cell_type": "markdown",
   "metadata": {},
   "source": [
    "#### v) Controlling ill-conditioning and over-fiting:"
   ]
  },
  {
   "cell_type": "markdown",
   "metadata": {},
   "source": [
    "Significant increases in test RMSE compared to train RMSE are found in some combinations. The reason might be overfitting."
   ]
  },
  {
   "cell_type": "markdown",
   "metadata": {},
   "source": [
    "##### With Ridge Regularizer"
   ]
  },
  {
   "cell_type": "markdown",
   "metadata": {},
   "source": [
    "With ridge regression, best alpha <br>\n",
    "and best combination is:  (3, (False, True, True, True, False))<br>\n",
    "['Day of Week', 'Backup Start Time - Hour of Day', 'Work-Flow-ID']<br>\n",
    "Test RMSE:  0.0883677426258"
   ]
  },
  {
   "cell_type": "markdown",
   "metadata": {},
   "source": [
    "##### With Lasso Regularizer"
   ]
  },
  {
   "cell_type": "markdown",
   "metadata": {},
   "source": [
    "With ridge regression, best alpha <br>\n",
    "and best combination is:  (0.0004572473708276177, (True, True, True, True, True))<br>\n",
    "['Week #', 'Day of Week', 'Backup Start Time - Hour of Day', 'Work-Flow-ID', 'File Name']<br>\n",
    "Test RMSE:  0.0884676783956"
   ]
  },
  {
   "cell_type": "markdown",
   "metadata": {},
   "source": [
    "##### coefficients of best unregularized model"
   ]
  },
  {
   "cell_type": "raw",
   "metadata": {},
   "source": [
    "[  1.96145460e+10   1.96145460e+10   1.96145460e+10   1.96145460e+10\n",
    "   1.96145460e+10   1.96145460e+10   1.96145460e+10  -2.89569745e+10\n",
    "  -2.89569745e+10  -2.89569745e+10  -2.89569745e+10  -2.89569745e+10\n",
    "  -2.89569745e+10   1.65056477e+10  -4.39256988e+10  -1.67303354e+10\n",
    "  -2.26495354e+09  -5.20965060e+10  -2.98779213e+10  -2.98779213e+10\n",
    "  -2.98779213e+10  -2.98779213e+10  -2.98779213e+10  -2.98779213e+10\n",
    "   3.05534252e+10   3.05534252e+10   3.05534252e+10   3.05534252e+10\n",
    "   3.05534252e+10   3.05534252e+10   3.35806181e+09   3.35806181e+09\n",
    "   3.35806181e+09   3.35806181e+09   3.35806181e+09   3.35806181e+09\n",
    "  -1.11073201e+10  -1.11073201e+10  -1.11073201e+10  -1.11073201e+10\n",
    "  -1.11073201e+10  -1.11073201e+10   3.87242323e+10   3.87242323e+10\n",
    "   3.87242323e+10   3.87242323e+10   3.87242323e+10   3.87242323e+10\n",
    "   8.94069672e-06]"
   ]
  },
  {
   "cell_type": "markdown",
   "metadata": {
    "collapsed": true
   },
   "source": [
    "##### coefficients of best regularized model (Ridge)"
   ]
  },
  {
   "cell_type": "raw",
   "metadata": {},
   "source": [
    "[  3.92669163e-02  -1.28487144e-02  -2.02445927e-02  -5.24244158e-03\n",
    "  -5.69974195e-03   3.27354301e-03   1.49503134e-03  -2.01859243e-02\n",
    "  -2.10402115e-02   7.78402332e-03   3.34228557e-02  -1.98663507e-03\n",
    "   2.00589195e-03   3.88382162e-02  -1.37318537e-02  -4.01695350e-02\n",
    "  -5.71824730e-02   7.22456456e-02   1.12166970e-05   5.37811040e-05]"
   ]
  },
  {
   "cell_type": "markdown",
   "metadata": {},
   "source": [
    "##### coefficients of best regularized model (Lasso)"
   ]
  },
  {
   "cell_type": "raw",
   "metadata": {},
   "source": [
    "[-0.         -0.          0.         -0.          0.         -0.          0.\n",
    "  0.          0.          0.         -0.          0.         -0.         -0.\n",
    " -0.          0.04001671 -0.00550534 -0.01322969 -0.         -0.\n",
    "  0.00401878  0.00223829 -0.01755974 -0.01823346  0.00504044  0.0307037  -0.\n",
    "  0.          0.0499828  -0.         -0.02400039 -0.04072367  0.08463377\n",
    "  0.          0.          0.          0.          0.          0.          0.\n",
    " -0.          0.         -0.         -0.          0.         -0.         -0.\n",
    " -0.         -0.         -0.         -0.         -0.         -0.         -0.\n",
    " -0.         -0.         -0.          0.          0.          0.          0.\n",
    "  0.          0.        ]"
   ]
  },
  {
   "cell_type": "markdown",
   "metadata": {},
   "source": [
    "By comparing the regularized models and unregularized models, we can find that the coefficients of regularized models are smaller than that of the best unregularized model."
   ]
  },
  {
   "cell_type": "markdown",
   "metadata": {},
   "source": [
    "#### b) Use a random forest regression model for this same task."
   ]
  },
  {
   "cell_type": "markdown",
   "metadata": {},
   "source": [
    "##### i) Out of bag error"
   ]
  },
  {
   "cell_type": "markdown",
   "metadata": {},
   "source": [
    "![title](image/output_49_0.png)\n",
    "![title](image/output_49_1.png)"
   ]
  },
  {
   "cell_type": "markdown",
   "metadata": {},
   "source": [
    "Train set average RMSE:  0.0606309314186<br>\n",
    "Test set average RMSE:  0.0607161064476<br>\n",
    "Out of bag error:  0.342134001925"
   ]
  },
  {
   "cell_type": "markdown",
   "metadata": {},
   "source": [
    "#### ii) Sweep over number of trees from 1 to 200 and maximum number of features from 1 to 5"
   ]
  },
  {
   "cell_type": "markdown",
   "metadata": {},
   "source": [
    "![title](image/output_52_0.png)"
   ]
  },
  {
   "cell_type": "markdown",
   "metadata": {},
   "source": [
    "![title](image/output_53_0.png)"
   ]
  },
  {
   "cell_type": "markdown",
   "metadata": {},
   "source": [
    "##### iii) Pick another parameter to experiment on &mdash; $max\\_depth$"
   ]
  },
  {
   "cell_type": "markdown",
   "metadata": {},
   "source": [
    "![title](image/output_58_0.png)"
   ]
  },
  {
   "cell_type": "markdown",
   "metadata": {},
   "source": [
    "![title](image/output_59_0.png)"
   ]
  },
  {
   "cell_type": "markdown",
   "metadata": {},
   "source": [
    "The other variable we pick to achieve the best performance is the maximum depth."
   ]
  },
  {
   "cell_type": "markdown",
   "metadata": {},
   "source": [
    "##### iv) Report the feature importance from the best random forest regression."
   ]
  },
  {
   "cell_type": "markdown",
   "metadata": {},
   "source": [
    "![title](image/output_62_0.png)\n",
    "![title](image/output_62_1.png)"
   ]
  },
  {
   "cell_type": "markdown",
   "metadata": {},
   "source": [
    "Train set average RMSE:  0.0121801827691<br>\n",
    "Test set average RMSE:  0.0142939499261<br>\n",
    "Feature importance: <br>\n",
    "\t [ 0.00474529  0.33020781  0.32231875  0.17955937  0.16316878]"
   ]
  },
  {
   "cell_type": "markdown",
   "metadata": {},
   "source": [
    "![title](image/output_63_0.png)"
   ]
  },
  {
   "cell_type": "markdown",
   "metadata": {
    "collapsed": true
   },
   "source": [
    "##### v) Visualize your decision trees."
   ]
  },
  {
   "cell_type": "markdown",
   "metadata": {},
   "source": [
    "![title](image/output_65_0.png)"
   ]
  },
  {
   "cell_type": "markdown",
   "metadata": {},
   "source": [
    "The root node of the decision tree that we pick is feature 4, which is work-flow ID. It is not the most important feature reported by regressor, which is feature 2, day of week."
   ]
  },
  {
   "cell_type": "markdown",
   "metadata": {
    "collapsed": true
   },
   "source": [
    "#### c) Use neural network regression model"
   ]
  },
  {
   "cell_type": "markdown",
   "metadata": {},
   "source": [
    "![title](image/output_71_0.png)"
   ]
  },
  {
   "cell_type": "markdown",
   "metadata": {},
   "source": [
    "The best combination is 300 hidden layer units with activity function relu."
   ]
  },
  {
   "cell_type": "markdown",
   "metadata": {},
   "source": [
    "#### d) Predict the Backup size for each workflows separately"
   ]
  },
  {
   "cell_type": "markdown",
   "metadata": {},
   "source": [
    "##### i) With linear regression model"
   ]
  },
  {
   "cell_type": "markdown",
   "metadata": {},
   "source": [
    "work_flow_0\n",
    "![title](image/output_78_1.png)\n",
    "![title](image/output_78_2.png)\n",
    "Train set average RMSE:  0.0358355207799<br>\n",
    "Test set average RMSE:  0.0358869702489"
   ]
  },
  {
   "cell_type": "markdown",
   "metadata": {},
   "source": [
    "work_flow_1\n",
    "![title](image/output_78_4.png)\n",
    "![title](image/output_78_5.png)\n",
    "Train set average RMSE:  0.148766030563<br>\n",
    "Test set average RMSE:  0.148918602014"
   ]
  },
  {
   "cell_type": "markdown",
   "metadata": {},
   "source": [
    "work_flow_2\n",
    "![title](image/output_78_7.png)\n",
    "![title](image/output_78_8.png)\n",
    "Train set average RMSE:  0.0429093206391<br>\n",
    "Test set average RMSE:  0.0430669058479"
   ]
  },
  {
   "cell_type": "markdown",
   "metadata": {},
   "source": [
    "work_flow_3\n",
    "![title](image/output_78_10.png)\n",
    "![title](image/output_78_11.png)\n",
    "Train set average RMSE:  0.00724387887388<br>\n",
    "Test set average RMSE:  0.0072608942421"
   ]
  },
  {
   "cell_type": "markdown",
   "metadata": {},
   "source": [
    "work_flow_4\n",
    "![title](image/output_78_13.png)\n",
    "![title](image/output_78_14.png)\n",
    "Train set average RMSE:  0.0859219367933<br>\n",
    "Test set average RMSE:  0.0859906141157"
   ]
  },
  {
   "cell_type": "markdown",
   "metadata": {},
   "source": [
    "When predicting the backup size for each workflow separately, we found that the performance of linear regression is improved except for workflow 1."
   ]
  },
  {
   "cell_type": "markdown",
   "metadata": {},
   "source": [
    "##### ii) Polynomial regression."
   ]
  },
  {
   "cell_type": "markdown",
   "metadata": {},
   "source": [
    "![title](image/output_83_0.png)\n",
    "![title](image/output_83_1.png)\n",
    "![title](image/output_83_2.png)\n",
    "![title](image/output_83_3.png)\n",
    "![title](image/output_83_4.png)"
   ]
  },
  {
   "cell_type": "markdown",
   "metadata": {},
   "source": [
    "Beyond the degree 6, the generalization error of the model gets worse."
   ]
  },
  {
   "cell_type": "markdown",
   "metadata": {},
   "source": [
    "The threshold for workflow 0, 2 and 3 is 6. The threshold for workflow 1 is 8, and the threshold for workflow 4 is 7.<br>\n",
    "Cross validation increases the test error when the model is complex, which helps to identify overfitting problems and thus, improve the regression model."
   ]
  },
  {
   "cell_type": "markdown",
   "metadata": {},
   "source": [
    "#### e) Use kNN regression and find the best parameter"
   ]
  },
  {
   "cell_type": "markdown",
   "metadata": {},
   "source": [
    "![title](image/output_87_0.png)"
   ]
  },
  {
   "cell_type": "markdown",
   "metadata": {},
   "source": [
    "Best kNN result comes with k = 1\n",
    "![title](image/output_88_1.png)\n",
    "![title](image/output_88_2.png)\n",
    "\n",
    "Train set average RMSE:  0.0<br>\n",
    "Test set average RMSE:  0.020165775873"
   ]
  },
  {
   "cell_type": "markdown",
   "metadata": {},
   "source": [
    "### Part 3) Compare the regression models"
   ]
  },
  {
   "cell_type": "markdown",
   "metadata": {},
   "source": [
    "By comparing the RMSE for all the regression models that we used, random forest model (random tree 7, maximum depth 10, maximum feature 3) generate the best result.<br>\n",
    "Linear regression model does a bad job compared to other regression models. By One-Hot-Encoding, we can improve the performance of linear regression model, but still not good enough.<br>\n",
    "Neural Network regression takes good care of categorical features, while it is also good at handling sparse data when combined with 300 hidden layer units with activity function of relu.<br>\n",
    "Predicting the backup size for each workflow separately can generally improve the performance of most of the regression models.\n"
   ]
  }
 ],
 "metadata": {
  "kernelspec": {
   "display_name": "Python 3",
   "language": "python",
   "name": "python3"
  },
  "language_info": {
   "codemirror_mode": {
    "name": "ipython",
    "version": 3
   },
   "file_extension": ".py",
   "mimetype": "text/x-python",
   "name": "python",
   "nbconvert_exporter": "python",
   "pygments_lexer": "ipython3",
   "version": "3.6.3"
  }
 },
 "nbformat": 4,
 "nbformat_minor": 2
}
