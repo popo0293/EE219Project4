{
 "cells": [
  {
   "cell_type": "markdown",
   "metadata": {},
   "source": [
    "### EE219 Project 4: Regression Analysis\n",
    "\n",
    "### Team members:\n",
    "* **Yin Fei** 404284074\n",
    "\n",
    "* **Yichen Wu** 504294181\n",
    "\n",
    "* **Siyuan Chen** 405024391\n",
    "\n",
    "* **Ruchen Zhen** 205036408\n",
    "\n",
    "### Required Packages:\n",
    "python 3.6  \n",
    "numpy v1.14.0  \n",
    "scikit-learn v0.19.1  \n",
    "scipy v1.0.0  \n",
    "matplotlib v2.1.2  \n",
    "pandas v0.22.0   \n",
    "graphviz v2.38.0"
   ]
  },
  {
   "cell_type": "markdown",
   "metadata": {},
   "source": [
    "### Part 1) Load the dataset."
   ]
  },
  {
   "cell_type": "markdown",
   "metadata": {},
   "source": [
    "**(a) For a twenty-day period (X-axis unit is day number) plot the backup sizes for\n",
    "all workflows (color coded on the Y-axis)**"
   ]
  },
  {
   "cell_type": "markdown",
   "metadata": {},
   "source": [
    "![title](image/output_7_0.png)"
   ]
  },
  {
   "cell_type": "markdown",
   "metadata": {},
   "source": [
    "**(b) Do the same plot for the first 105-day period.**"
   ]
  },
  {
   "cell_type": "markdown",
   "metadata": {
    "scrolled": true
   },
   "source": [
    "![title](image/output_9_0.png)"
   ]
  },
  {
   "cell_type": "markdown",
   "metadata": {},
   "source": [
    "We can see an obvious periodic pattern of the data on the graph. Periods of all 5 workflows are the same, which is approximately 7 days, the number of days of a week. The peaks of workflow 4 appear when the troughs of workflow 0 appear. The peaks of workflow 2 and 3 appear at the same time, leading the peak of workflow 4 by approximately 2 days. The peaks of workflow 1 are lagging the peaks of workflow 4 by approximately 1 day."
   ]
  },
  {
   "cell_type": "markdown",
   "metadata": {
    "collapsed": true
   },
   "source": [
    "### Part 2) Predict the backup size of a file given the other attributes."
   ]
  },
  {
   "cell_type": "markdown",
   "metadata": {},
   "source": [
    "#### a) Fit a linear regression model."
   ]
  },
  {
   "cell_type": "markdown",
   "metadata": {},
   "source": [
    "#### i) Naive linear regression"
   ]
  },
  {
   "cell_type": "markdown",
   "metadata": {},
   "source": [
    "![title](image/output_20_0.png)\n",
    "![title](image/output_20_1.png)"
   ]
  },
  {
   "cell_type": "markdown",
   "metadata": {},
   "source": [
    "Train set average RMSE:  0.103585393643<br>\n",
    "Test set average RMSE:  0.103675847676"
   ]
  },
  {
   "cell_type": "markdown",
   "metadata": {},
   "source": [
    "#### ii) Data Preprocessing: with standardized feature data"
   ]
  },
  {
   "cell_type": "markdown",
   "metadata": {},
   "source": [
    "![title](image/output_23_0.png)\n",
    "![title](image/output_23_1.png)"
   ]
  },
  {
   "cell_type": "markdown",
   "metadata": {},
   "source": [
    "Train set average RMSE:  0.103585393643<br>\n",
    "Test set average RMSE:  0.103675847676"
   ]
  },
  {
   "cell_type": "markdown",
   "metadata": {},
   "source": [
    "#### iii) Feature Selection: select three most important features"
   ]
  },
  {
   "cell_type": "markdown",
   "metadata": {},
   "source": [
    "![title](image/output_26_0.png)\n",
    "![title](image/output_26_1.png)"
   ]
  },
  {
   "cell_type": "markdown",
   "metadata": {},
   "source": [
    "Train set average RMSE:  0.103585682142<br>\n",
    "Test set average RMSE:  0.103670661831"
   ]
  },
  {
   "cell_type": "markdown",
   "metadata": {},
   "source": [
    "![title](image/output_29_0.png)\n",
    "![title](image/output_29_1.png)"
   ]
  },
  {
   "cell_type": "markdown",
   "metadata": {},
   "source": [
    "Train set average RMSE:  0.103694528194<br>\n",
    "Test set average RMSE:  0.103772293071"
   ]
  },
  {
   "cell_type": "markdown",
   "metadata": {},
   "source": [
    "#### iv) Feature Encoding:"
   ]
  },
  {
   "cell_type": "markdown",
   "metadata": {},
   "source": [
    "![title](image/output_34_0.png)"
   ]
  },
  {
   "cell_type": "markdown",
   "metadata": {},
   "source": [
    "![title](image/output_35_0.png)"
   ]
  },
  {
   "cell_type": "markdown",
   "metadata": {},
   "source": [
    "#### v) Controlling ill-conditioning and over-fiting:"
   ]
  },
  {
   "cell_type": "markdown",
   "metadata": {},
   "source": [
    "##### With Ridge Regularizer"
   ]
  },
  {
   "cell_type": "markdown",
   "metadata": {},
   "source": [
    "With ridge regression, best alpha <br>\n",
    "and best combination is:  (3, (False, True, True, True, False))<br>\n",
    "['Day of Week', 'Backup Start Time - Hour of Day', 'Work-Flow-ID']<br>\n",
    "Test RMSE:  0.0883677426258"
   ]
  },
  {
   "cell_type": "markdown",
   "metadata": {},
   "source": [
    "##### With Lasso Regularizer"
   ]
  },
  {
   "cell_type": "markdown",
   "metadata": {},
   "source": [
    "With ridge regression, best alpha <br>\n",
    "and best combination is:  (0.0004572473708276177, (True, True, True, True, True))<br>\n",
    "['Week #', 'Day of Week', 'Backup Start Time - Hour of Day', 'Work-Flow-ID', 'File Name']<br>\n",
    "Test RMSE:  0.0884676783956"
   ]
  },
  {
   "cell_type": "markdown",
   "metadata": {},
   "source": [
    "##### coefficients of best unregularized model"
   ]
  },
  {
   "cell_type": "raw",
   "metadata": {},
   "source": [
    "[  1.96145460e+10   1.96145460e+10   1.96145460e+10   1.96145460e+10\n",
    "   1.96145460e+10   1.96145460e+10   1.96145460e+10  -2.89569745e+10\n",
    "  -2.89569745e+10  -2.89569745e+10  -2.89569745e+10  -2.89569745e+10\n",
    "  -2.89569745e+10   1.65056477e+10  -4.39256988e+10  -1.67303354e+10\n",
    "  -2.26495354e+09  -5.20965060e+10  -2.98779213e+10  -2.98779213e+10\n",
    "  -2.98779213e+10  -2.98779213e+10  -2.98779213e+10  -2.98779213e+10\n",
    "   3.05534252e+10   3.05534252e+10   3.05534252e+10   3.05534252e+10\n",
    "   3.05534252e+10   3.05534252e+10   3.35806181e+09   3.35806181e+09\n",
    "   3.35806181e+09   3.35806181e+09   3.35806181e+09   3.35806181e+09\n",
    "  -1.11073201e+10  -1.11073201e+10  -1.11073201e+10  -1.11073201e+10\n",
    "  -1.11073201e+10  -1.11073201e+10   3.87242323e+10   3.87242323e+10\n",
    "   3.87242323e+10   3.87242323e+10   3.87242323e+10   3.87242323e+10\n",
    "   8.94069672e-06]"
   ]
  },
  {
   "cell_type": "markdown",
   "metadata": {
    "collapsed": true
   },
   "source": [
    "##### coefficients of best regularized model (Ridge)"
   ]
  },
  {
   "cell_type": "raw",
   "metadata": {},
   "source": [
    "[  3.92669163e-02  -1.28487144e-02  -2.02445927e-02  -5.24244158e-03\n",
    "  -5.69974195e-03   3.27354301e-03   1.49503134e-03  -2.01859243e-02\n",
    "  -2.10402115e-02   7.78402332e-03   3.34228557e-02  -1.98663507e-03\n",
    "   2.00589195e-03   3.88382162e-02  -1.37318537e-02  -4.01695350e-02\n",
    "  -5.71824730e-02   7.22456456e-02   1.12166970e-05   5.37811040e-05]"
   ]
  },
  {
   "cell_type": "markdown",
   "metadata": {},
   "source": [
    "##### coefficients of best regularized model (Lasso)"
   ]
  },
  {
   "cell_type": "raw",
   "metadata": {},
   "source": [
    "[-0.         -0.          0.         -0.          0.         -0.          0.\n",
    "  0.          0.          0.         -0.          0.         -0.         -0.\n",
    " -0.          0.04001671 -0.00550534 -0.01322969 -0.         -0.\n",
    "  0.00401878  0.00223829 -0.01755974 -0.01823346  0.00504044  0.0307037  -0.\n",
    "  0.          0.0499828  -0.         -0.02400039 -0.04072367  0.08463377\n",
    "  0.          0.          0.          0.          0.          0.          0.\n",
    " -0.          0.         -0.         -0.          0.         -0.         -0.\n",
    " -0.         -0.         -0.         -0.         -0.         -0.         -0.\n",
    " -0.         -0.         -0.          0.          0.          0.          0.\n",
    "  0.          0.        ]"
   ]
  },
  {
   "cell_type": "markdown",
   "metadata": {},
   "source": [
    "#### b) Use a random forest regression model for this same task."
   ]
  },
  {
   "cell_type": "markdown",
   "metadata": {},
   "source": [
    "##### i) Out of bag error"
   ]
  },
  {
   "cell_type": "markdown",
   "metadata": {},
   "source": [
    "![title](image/output_49_0.png)\n",
    "![title](image/output_49_1.png)"
   ]
  },
  {
   "cell_type": "markdown",
   "metadata": {},
   "source": [
    "Train set average RMSE:  0.0606309314186<br>\n",
    "Test set average RMSE:  0.0607161064476<br>\n",
    "Out of bag error:  0.342134001925"
   ]
  },
  {
   "cell_type": "markdown",
   "metadata": {},
   "source": [
    "#### ii) Sweep over number of trees from 1 to 200 and maximum number of features from 1 to 5"
   ]
  },
  {
   "cell_type": "markdown",
   "metadata": {},
   "source": [
    "![title](image/output_52_0.png)"
   ]
  },
  {
   "cell_type": "markdown",
   "metadata": {},
   "source": [
    "![title](image/output_53_0.png)"
   ]
  },
  {
   "cell_type": "markdown",
   "metadata": {},
   "source": [
    "##### iii) Pick another parameter to experiment on &mdash; $max\\_depth$"
   ]
  },
  {
   "cell_type": "markdown",
   "metadata": {},
   "source": [
    "![title](image/output_58_0.png)"
   ]
  },
  {
   "cell_type": "markdown",
   "metadata": {},
   "source": [
    "![title](image/output_59_0.png)"
   ]
  },
  {
   "cell_type": "markdown",
   "metadata": {},
   "source": [
    "##### iv) Report the feature importance from the best random forest regression."
   ]
  },
  {
   "cell_type": "markdown",
   "metadata": {},
   "source": [
    "![title](image/output_62_0.png)\n",
    "![title](image/output_62_1.png)"
   ]
  },
  {
   "cell_type": "markdown",
   "metadata": {},
   "source": [
    "Train set average RMSE:  0.0121801827691<br>\n",
    "Test set average RMSE:  0.0142939499261<br>\n",
    "Feature importance: <br>\n",
    "\t [ 0.00474529  0.33020781  0.32231875  0.17955937  0.16316878]"
   ]
  },
  {
   "cell_type": "markdown",
   "metadata": {},
   "source": [
    "![title](image/output_63_0.png)"
   ]
  },
  {
   "cell_type": "markdown",
   "metadata": {
    "collapsed": true
   },
   "source": [
    "##### v) Visualize your decision trees."
   ]
  },
  {
   "cell_type": "markdown",
   "metadata": {},
   "source": [
    "![title](image/output_65_0.png)"
   ]
  },
  {
   "cell_type": "markdown",
   "metadata": {
    "collapsed": true
   },
   "source": [
    "#### c) Use neural network regression model"
   ]
  },
  {
   "cell_type": "markdown",
   "metadata": {},
   "source": [
    "![title](image/output_71_0.png)"
   ]
  },
  {
   "cell_type": "markdown",
   "metadata": {},
   "source": [
    "The best combination is 300 hidden layer units with activity function relu."
   ]
  },
  {
   "cell_type": "markdown",
   "metadata": {},
   "source": [
    "#### d) Predict the Backup size for each workflows separately"
   ]
  },
  {
   "cell_type": "markdown",
   "metadata": {},
   "source": [
    "##### i) With linear regression model"
   ]
  },
  {
   "cell_type": "markdown",
   "metadata": {},
   "source": [
    "work_flow_0\n",
    "![title](image/output_78_1.png)\n",
    "![title](image/output_78_2.png)\n",
    "Train set average RMSE:  0.0358355207799<br>\n",
    "Test set average RMSE:  0.0358869702489"
   ]
  },
  {
   "cell_type": "markdown",
   "metadata": {},
   "source": [
    "work_flow_1\n",
    "![title](image/output_78_4.png)\n",
    "![title](image/output_78_5.png)\n",
    "Train set average RMSE:  0.148766030563<br>\n",
    "Test set average RMSE:  0.148918602014"
   ]
  },
  {
   "cell_type": "markdown",
   "metadata": {},
   "source": [
    "work_flow_2\n",
    "![title](image/output_78_7.png)\n",
    "![title](image/output_78_8.png)\n",
    "Train set average RMSE:  0.0429093206391<br>\n",
    "Test set average RMSE:  0.0430669058479"
   ]
  },
  {
   "cell_type": "markdown",
   "metadata": {},
   "source": [
    "work_flow_3\n",
    "![title](image/output_78_10.png)\n",
    "![title](image/output_78_11.png)\n",
    "Train set average RMSE:  0.00724387887388<br>\n",
    "Test set average RMSE:  0.0072608942421"
   ]
  },
  {
   "cell_type": "markdown",
   "metadata": {},
   "source": [
    "work_flow_4\n",
    "![title](image/output_78_13.png)\n",
    "![title](image/output_78_14.png)\n",
    "Train set average RMSE:  0.0859219367933<br>\n",
    "Test set average RMSE:  0.0859906141157"
   ]
  },
  {
   "cell_type": "markdown",
   "metadata": {},
   "source": [
    "##### ii) Polynomial regression."
   ]
  },
  {
   "cell_type": "markdown",
   "metadata": {},
   "source": [
    "![title](image/output_83_0.png)\n",
    "![title](image/output_83_1.png)\n",
    "![title](image/output_83_2.png)\n",
    "![title](image/output_83_3.png)\n",
    "![title](image/output_83_4.png)"
   ]
  },
  {
   "cell_type": "markdown",
   "metadata": {},
   "source": [
    "Beyond the degree 6, the generalization error of the model gets worse."
   ]
  },
  {
   "cell_type": "markdown",
   "metadata": {},
   "source": [
    "#### e) Use kNN regression and find the best parameter"
   ]
  },
  {
   "cell_type": "markdown",
   "metadata": {},
   "source": [
    "![title](image/output_87_0.png)"
   ]
  },
  {
   "cell_type": "markdown",
   "metadata": {},
   "source": [
    "Best kNN result comes with k = 1\n",
    "![title](image/output_88_1.png)\n",
    "![title](image/output_88_2.png)\n",
    "\n",
    "Train set average RMSE:  0.0<br>\n",
    "Test set average RMSE:  0.020165775873"
   ]
  }
 ],
 "metadata": {
  "kernelspec": {
   "display_name": "Python 3",
   "language": "python",
   "name": "python3"
  },
  "language_info": {
   "codemirror_mode": {
    "name": "ipython",
    "version": 3
   },
   "file_extension": ".py",
   "mimetype": "text/x-python",
   "name": "python",
   "nbconvert_exporter": "python",
   "pygments_lexer": "ipython3",
   "version": "3.6.3"
  }
 },
 "nbformat": 4,
 "nbformat_minor": 2
}
